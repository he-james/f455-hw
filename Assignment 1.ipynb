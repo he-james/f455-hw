{
 "cells": [
  {
   "cell_type": "markdown",
   "metadata": {},
   "source": [
    "# Financial Data Analytics\n",
    "\n",
    "## Assignment 1\n",
    "\n",
    "Variables, types, and assignment\n",
    "<br>Conditional execution"
   ]
  },
  {
   "cell_type": "markdown",
   "metadata": {},
   "source": [
    "For the following questions, use the empty lines to run your code. Add or remove lines as needed to have an organized and readable full solution file. "
   ]
  },
  {
   "cell_type": "code",
   "execution_count": null,
   "metadata": {},
   "outputs": [],
   "source": [
    "# Add verbal explanations as comments to your code where needed."
   ]
  },
  {
   "cell_type": "markdown",
   "metadata": {},
   "source": [
    "What is the type of the following? use the function `type()` to find out. \n",
    "\n",
    "If you get an error, expain why and suggest a solution."
   ]
  },
  {
   "cell_type": "code",
   "execution_count": null,
   "metadata": {},
   "outputs": [],
   "source": [
    "# int\n",
    "# str\n",
    "# invalid syntax. Can be fixed using single or double quotes around the string\n",
    "# str\n",
    "# float\n",
    "# str\n",
    "# bool\n",
    "# 'x' is not defined, can be fixed by assigning x to a value beforehand\n",
    "# int\n",
    "# bool\n",
    "# undefined"
   ]
  },
  {
   "cell_type": "code",
   "execution_count": 1,
   "metadata": {},
   "outputs": [
    {
     "ename": "SyntaxError",
     "evalue": "invalid syntax (<ipython-input-1-bfec665db37d>, line 3)",
     "output_type": "error",
     "traceback": [
      "\u001b[0;36m  File \u001b[0;32m\"<ipython-input-1-bfec665db37d>\"\u001b[0;36m, line \u001b[0;32m3\u001b[0m\n\u001b[0;31m    print(type(this is a string))\u001b[0m\n\u001b[0m                              ^\u001b[0m\n\u001b[0;31mSyntaxError\u001b[0m\u001b[0;31m:\u001b[0m invalid syntax\n"
     ]
    }
   ],
   "source": [
    "print(type(5050))\n",
    "print(type('5050'))\n",
    "print(type(this is a string))"
   ]
  },
  {
   "cell_type": "code",
   "execution_count": 12,
   "metadata": {},
   "outputs": [
    {
     "name": "stdout",
     "output_type": "stream",
     "text": [
      "<class 'str'>\n",
      "<class 'float'>\n",
      "<class 'str'>\n",
      "<class 'bool'>\n"
     ]
    },
    {
     "ename": "NameError",
     "evalue": "name 'x' is not defined",
     "output_type": "error",
     "traceback": [
      "\u001b[0;31m---------------------------------------------------------------------------\u001b[0m",
      "\u001b[0;31mNameError\u001b[0m                                 Traceback (most recent call last)",
      "\u001b[0;32m<ipython-input-12-fcd14e683419>\u001b[0m in \u001b[0;36m<module>\u001b[0;34m\u001b[0m\n\u001b[1;32m      3\u001b[0m \u001b[0mprint\u001b[0m\u001b[0;34m(\u001b[0m\u001b[0mtype\u001b[0m\u001b[0;34m(\u001b[0m\u001b[0;34m'12.53'\u001b[0m\u001b[0;34m)\u001b[0m\u001b[0;34m)\u001b[0m\u001b[0;34m\u001b[0m\u001b[0;34m\u001b[0m\u001b[0m\n\u001b[1;32m      4\u001b[0m \u001b[0mprint\u001b[0m\u001b[0;34m(\u001b[0m\u001b[0mtype\u001b[0m\u001b[0;34m(\u001b[0m\u001b[0;36m8\u001b[0m \u001b[0;34m>\u001b[0m \u001b[0;36m5\u001b[0m\u001b[0;34m)\u001b[0m\u001b[0;34m)\u001b[0m\u001b[0;34m\u001b[0m\u001b[0;34m\u001b[0m\u001b[0m\n\u001b[0;32m----> 5\u001b[0;31m \u001b[0mprint\u001b[0m\u001b[0;34m(\u001b[0m\u001b[0mtype\u001b[0m\u001b[0;34m(\u001b[0m\u001b[0mx\u001b[0m \u001b[0;34m==\u001b[0m \u001b[0mx\u001b[0m\u001b[0;34m)\u001b[0m\u001b[0;34m)\u001b[0m\u001b[0;34m\u001b[0m\u001b[0;34m\u001b[0m\u001b[0m\n\u001b[0m\u001b[1;32m      6\u001b[0m \u001b[0mprint\u001b[0m\u001b[0;34m(\u001b[0m\u001b[0mtype\u001b[0m\u001b[0;34m(\u001b[0m\u001b[0mabs\u001b[0m\u001b[0;34m(\u001b[0m\u001b[0;34m-\u001b[0m\u001b[0;36m25\u001b[0m\u001b[0;34m)\u001b[0m\u001b[0;34m)\u001b[0m\u001b[0;34m)\u001b[0m\u001b[0;34m\u001b[0m\u001b[0;34m\u001b[0m\u001b[0m\n\u001b[1;32m      7\u001b[0m \u001b[0mprint\u001b[0m\u001b[0;34m(\u001b[0m\u001b[0mtype\u001b[0m\u001b[0;34m(\u001b[0m\u001b[0;32mFalse\u001b[0m\u001b[0;34m)\u001b[0m\u001b[0;34m)\u001b[0m\u001b[0;34m\u001b[0m\u001b[0;34m\u001b[0m\u001b[0m\n",
      "\u001b[0;31mNameError\u001b[0m: name 'x' is not defined"
     ]
    }
   ],
   "source": [
    "print(type('this is a string'))\n",
    "print(type(12.53))\n",
    "print(type('12.53'))\n",
    "print(type(8 > 5))\n",
    "print(type(x == x))"
   ]
  },
  {
   "cell_type": "code",
   "execution_count": 13,
   "metadata": {},
   "outputs": [
    {
     "name": "stdout",
     "output_type": "stream",
     "text": [
      "<class 'int'>\n",
      "<class 'bool'>\n"
     ]
    },
    {
     "ename": "NameError",
     "evalue": "name 'none' is not defined",
     "output_type": "error",
     "traceback": [
      "\u001b[0;31m---------------------------------------------------------------------------\u001b[0m",
      "\u001b[0;31mNameError\u001b[0m                                 Traceback (most recent call last)",
      "\u001b[0;32m<ipython-input-13-c8641d344052>\u001b[0m in \u001b[0;36m<module>\u001b[0;34m\u001b[0m\n\u001b[1;32m      1\u001b[0m \u001b[0mprint\u001b[0m\u001b[0;34m(\u001b[0m\u001b[0mtype\u001b[0m\u001b[0;34m(\u001b[0m\u001b[0mabs\u001b[0m\u001b[0;34m(\u001b[0m\u001b[0;34m-\u001b[0m\u001b[0;36m25\u001b[0m\u001b[0;34m)\u001b[0m\u001b[0;34m)\u001b[0m\u001b[0;34m)\u001b[0m\u001b[0;34m\u001b[0m\u001b[0;34m\u001b[0m\u001b[0m\n\u001b[1;32m      2\u001b[0m \u001b[0mprint\u001b[0m\u001b[0;34m(\u001b[0m\u001b[0mtype\u001b[0m\u001b[0;34m(\u001b[0m\u001b[0;32mFalse\u001b[0m\u001b[0;34m)\u001b[0m\u001b[0;34m)\u001b[0m\u001b[0;34m\u001b[0m\u001b[0;34m\u001b[0m\u001b[0m\n\u001b[0;32m----> 3\u001b[0;31m \u001b[0mprint\u001b[0m\u001b[0;34m(\u001b[0m\u001b[0mtype\u001b[0m\u001b[0;34m(\u001b[0m\u001b[0mnone\u001b[0m\u001b[0;34m)\u001b[0m\u001b[0;34m)\u001b[0m\u001b[0;34m\u001b[0m\u001b[0;34m\u001b[0m\u001b[0m\n\u001b[0m",
      "\u001b[0;31mNameError\u001b[0m: name 'none' is not defined"
     ]
    }
   ],
   "source": [
    "print(type(abs(-25)))\n",
    "print(type(False))\n",
    "print(type(none))"
   ]
  },
  {
   "cell_type": "markdown",
   "metadata": {},
   "source": [
    "The following are data structures we will learn about in next classes. \n",
    "\n",
    "Discover them here for the first time! For each, use the function `type()`. \n",
    "\n",
    "What new types do you discover?"
   ]
  },
  {
   "cell_type": "code",
   "execution_count": null,
   "metadata": {},
   "outputs": [],
   "source": [
    "1. list\n",
    "2. list\n",
    "3. dict\n",
    "4. dict\n",
    "5. tuple\n",
    "6. tuple"
   ]
  },
  {
   "cell_type": "code",
   "execution_count": null,
   "metadata": {},
   "outputs": [],
   "source": [
    "1. [1,2,3,4,5]\n",
    "2. ['blue','green','red']\n",
    "3. {'A':'Airplain','C':'Car'}\n",
    "4. {'name':'Microsoft Corporation', 'Symbol':'MSFT','Stock Price':'150'}\n",
    "5. (1,2,3,4,5)\n",
    "6. ('blue','green','red')"
   ]
  },
  {
   "cell_type": "code",
   "execution_count": 15,
   "metadata": {},
   "outputs": [
    {
     "name": "stdout",
     "output_type": "stream",
     "text": [
      "<class 'list'>\n",
      "<class 'list'>\n",
      "<class 'dict'>\n",
      "<class 'dict'>\n",
      "<class 'tuple'>\n",
      "<class 'tuple'>\n"
     ]
    }
   ],
   "source": [
    "print(type([1,2,3,4,5]))\n",
    "print(type(['blue','green','red']))\n",
    "print(type({'A':'Airplain','C':'Car'}))\n",
    "print(type({'name':'Microsoft Corporation', 'Symbol':'MSFT','Stock Price':'150'}))\n",
    "print(type((1,2,3,4,5)))\n",
    "print(type(('blue','green','red')))\n"
   ]
  },
  {
   "cell_type": "markdown",
   "metadata": {},
   "source": [
    "Write a Python program which accepts from a user the radius of a circle, and print the area. For simplicity, assume pi equals 3.14\n",
    "\n",
    "Hint: use the following line of code for user input: "
   ]
  },
  {
   "cell_type": "code",
   "execution_count": 16,
   "metadata": {},
   "outputs": [
    {
     "name": "stdout",
     "output_type": "stream",
     "text": [
      "Please input the radius: 5\n"
     ]
    }
   ],
   "source": [
    "radius = int(input(\"Please input the radius: \"))"
   ]
  },
  {
   "cell_type": "code",
   "execution_count": 17,
   "metadata": {},
   "outputs": [
    {
     "name": "stdout",
     "output_type": "stream",
     "text": [
      "31.400000000000002\n"
     ]
    }
   ],
   "source": [
    "pi = 3.14\n",
    "print(2 * pi * radius)"
   ]
  },
  {
   "cell_type": "markdown",
   "metadata": {},
   "source": [
    "Write a Python program which accepts from a user a number, then checks if it is odd or even.  "
   ]
  },
  {
   "cell_type": "code",
   "execution_count": 40,
   "metadata": {},
   "outputs": [
    {
     "name": "stdout",
     "output_type": "stream",
     "text": [
      "GIVE ME A NUMBER, boss:5\n",
      "THE NUMBER YOU CHOSE WAS 5, and it is DEFINITELY ODD\n"
     ]
    }
   ],
   "source": [
    "n = int(input(\"GIVE ME A NUMBER: \"))\n",
    "if n % 2 == 0:\n",
    "    print(\"YOUR NUMBER, {0}, IS E V E N\".format(n))\n",
    "if n % 2 == 1:\n",
    "    print(\"THE NUMBER YOU CHOSE WAS {0}, and it is DEFINITELY ODD\".format(n))\n",
    "# TRY / EXCEPT"
   ]
  },
  {
   "cell_type": "markdown",
   "metadata": {},
   "source": [
    "Accept two integer values from a user and print their product. Print a warning if their product is larger than 100."
   ]
  },
  {
   "cell_type": "code",
   "execution_count": 3,
   "metadata": {},
   "outputs": [
    {
     "name": "stdout",
     "output_type": "stream",
     "text": [
      "I'm hungry, give me two integers:\n",
      "Int 1: 6\n",
      "Yummy!\n",
      "Int 2: 6\n",
      "Delicious!\n",
      "The Product of these numbers is 36\n"
     ]
    }
   ],
   "source": [
    "print('I\\'m hungry, give me two integers:')\n",
    "i = int(input(\"Int 1: \"))\n",
    "print('Yummy!')\n",
    "j = int(input(\"Int 2: \"))\n",
    "print('Delicious!')\n",
    "k = i*j\n",
    "if k > 100:\n",
    "    print('Heads up! The product of these numbers is greater than 100!')\n",
    "else:\n",
    "    print('The Product of these numbers is {0}'.format(k))"
   ]
  },
  {
   "cell_type": "markdown",
   "metadata": {},
   "source": [
    "Accept two integer values from a user and print their product if its smaller than 100. Otherwise, print their sum.\n"
   ]
  },
  {
   "cell_type": "code",
   "execution_count": 1,
   "metadata": {
    "scrolled": true
   },
   "outputs": [
    {
     "name": "stdout",
     "output_type": "stream",
     "text": [
      "Let's Play...\n",
      " _____ ___ _   ___   __  _   _ _   _ __  __ ____  _____ ____  ____  \n",
      "|_   _|_ _| \\ | \\ \\ / / | \\ | | | | |  \\/  | __ )| ____|  _ \\/ ___| \n",
      "  | |  | ||  \\| |\\ V /  |  \\| | | | | |\\/| |  _ \\|  _| | |_) \\___ \\ \n",
      "  | |  | || |\\  | | |   | |\\  | |_| | |  | | |_) | |___|  _ < ___) |\n",
      "  |_| |___|_| \\_| |_|   |_| \\_|\\___/|_|  |_|____/|_____|_| \\_\\____/ \n",
      "     The game where the stakes are big, but the numbers are tiny!\n",
      "\n",
      "Give us a number, kiddo!:5\n",
      "Did I mention the numbers should be tiny? Give me another!:2\n",
      "Great numbers! Let's see how much you won...\n",
      "Calculating...\n",
      "You won the PRODUCT of 5 and 2, which is 10\n"
     ]
    }
   ],
   "source": [
    "print('Let\\'s Play...')\n",
    "import time\n",
    "time.sleep(1)\n",
    "print(' _____ ___ _   ___   __  _   _ _   _ __  __ ____  _____ ____  ____  ')\n",
    "time.sleep(1)\n",
    "print('|_   _|_ _| \\ | \\ \\ / / | \\ | | | | |  \\/  | __ )| ____|  _ \\/ ___| ')\n",
    "time.sleep(1)\n",
    "print('  | |  | ||  \\| |\\ V /  |  \\| | | | | |\\/| |  _ \\|  _| | |_) \\___ \\ ')\n",
    "time.sleep(1)\n",
    "print('  | |  | || |\\  | | |   | |\\  | |_| | |  | | |_) | |___|  _ < ___) |')\n",
    "time.sleep(1)\n",
    "print('  |_| |___|_| \\_| |_|   |_| \\_|\\___/|_|  |_|____/|_____|_| \\_\\____/ ')\n",
    "time.sleep(1)\n",
    "print('     The game where the stakes are big, but the numbers are tiny!')\n",
    "print('')\n",
    "i = int(input(\"Give us a number, kiddo!: \"))\n",
    "j = int(input(\"Did I mention the numbers should be tiny? Give me another!: \"))\n",
    "k = i * j\n",
    "l = i + j\n",
    "print('Great numbers! Let\\'s see how much you won...')\n",
    "time.sleep(0.5)\n",
    "print('Calculating', end='')\n",
    "time.sleep(0.5)\n",
    "print('.', end='')\n",
    "time.sleep(0.5)\n",
    "print('.', end='')\n",
    "time.sleep(0.5)\n",
    "print('.')\n",
    "time.sleep(0.5)\n",
    "if k < 100: \n",
    "    print('You won the PRODUCT of {0} and {1}, which is {2}'.format(i, j, k))\n",
    "elif k > 100:\n",
    "    print('Your number was WAY too large!')\n",
    "    print('But still, you won the SUM of {0} and {1}, which is {2}'.format(i, j, l))\n"
   ]
  },
  {
   "cell_type": "markdown",
   "metadata": {},
   "source": [
    "Find the syntax errors in the following and correct them. Explain what was the problem."
   ]
  },
  {
   "cell_type": "code",
   "execution_count": 34,
   "metadata": {},
   "outputs": [
    {
     "ename": "SyntaxError",
     "evalue": "Missing parentheses in call to 'print'. Did you mean print('have a nice day')? (<ipython-input-34-cc4da2b76adb>, line 1)",
     "output_type": "error",
     "traceback": [
      "\u001b[0;36m  File \u001b[0;32m\"<ipython-input-34-cc4da2b76adb>\"\u001b[0;36m, line \u001b[0;32m1\u001b[0m\n\u001b[0;31m    print 'have a nice day'\u001b[0m\n\u001b[0m                          ^\u001b[0m\n\u001b[0;31mSyntaxError\u001b[0m\u001b[0;31m:\u001b[0m Missing parentheses in call to 'print'. Did you mean print('have a nice day')?\n"
     ]
    }
   ],
   "source": [
    "print 'have a nice day' # You need parentheses around the string, this is Python 3"
   ]
  },
  {
   "cell_type": "code",
   "execution_count": 35,
   "metadata": {},
   "outputs": [
    {
     "ename": "SyntaxError",
     "evalue": "invalid syntax (<ipython-input-35-68b2fa63f78c>, line 1)",
     "output_type": "error",
     "traceback": [
      "\u001b[0;36m  File \u001b[0;32m\"<ipython-input-35-68b2fa63f78c>\"\u001b[0;36m, line \u001b[0;32m1\u001b[0m\n\u001b[0;31m    print(to be or not to be, that is the question)\u001b[0m\n\u001b[0m              ^\u001b[0m\n\u001b[0;31mSyntaxError\u001b[0m\u001b[0;31m:\u001b[0m invalid syntax\n"
     ]
    }
   ],
   "source": [
    "print(to be or not to be, that is the question) # You need quotes (single or double) around the string"
   ]
  },
  {
   "cell_type": "code",
   "execution_count": 36,
   "metadata": {},
   "outputs": [
    {
     "ename": "SyntaxError",
     "evalue": "EOL while scanning string literal (<ipython-input-36-9defdc4e4a76>, line 1)",
     "output_type": "error",
     "traceback": [
      "\u001b[0;36m  File \u001b[0;32m\"<ipython-input-36-9defdc4e4a76>\"\u001b[0;36m, line \u001b[0;32m1\u001b[0m\n\u001b[0;31m    print('this smiley is not so happy... :\\')\u001b[0m\n\u001b[0m                                              ^\u001b[0m\n\u001b[0;31mSyntaxError\u001b[0m\u001b[0;31m:\u001b[0m EOL while scanning string literal\n"
     ]
    }
   ],
   "source": [
    "# You need a double backslash instead of a single backslash here\n",
    "print('this smiley is not so happy... :\\') "
   ]
  },
  {
   "cell_type": "code",
   "execution_count": 37,
   "metadata": {},
   "outputs": [
    {
     "ename": "SyntaxError",
     "evalue": "invalid syntax (<ipython-input-37-808c4be4b7a5>, line 2)",
     "output_type": "error",
     "traceback": [
      "\u001b[0;36m  File \u001b[0;32m\"<ipython-input-37-808c4be4b7a5>\"\u001b[0;36m, line \u001b[0;32m2\u001b[0m\n\u001b[0;31m    if x % 2 == 0\u001b[0m\n\u001b[0m                 ^\u001b[0m\n\u001b[0;31mSyntaxError\u001b[0m\u001b[0;31m:\u001b[0m invalid syntax\n"
     ]
    }
   ],
   "source": [
    "x == 20\n",
    "if x % 2 == 0 # you need a colon after '0'\n",
    "    print('even') \n",
    "else\n",
    "    print('odd')"
   ]
  },
  {
   "cell_type": "markdown",
   "metadata": {},
   "source": [
    "Write a program that accepts a user input. if the input is a number, return 3 times that number. Otherwise,\n",
    "return the message: 'You did not enter a number!' \n",
    "\n",
    "\n",
    "Use `try` and `except` keywords in your solution."
   ]
  },
  {
   "cell_type": "code",
   "execution_count": 4,
   "metadata": {},
   "outputs": [
    {
     "name": "stdout",
     "output_type": "stream",
     "text": [
      "What's on your mind?: 5\n",
      "15\n"
     ]
    }
   ],
   "source": [
    "n = input(\"What's on your mind?: \")\n",
    "try:\n",
    "    m = int(n)\n",
    "    print(3 * m)\n",
    "except:\n",
    "    print(\"You did not enter a number!\")"
   ]
  },
  {
   "cell_type": "code",
   "execution_count": null,
   "metadata": {},
   "outputs": [],
   "source": []
  }
 ],
 "metadata": {
  "kernelspec": {
   "display_name": "Python 3",
   "language": "python",
   "name": "python3"
  },
  "language_info": {
   "codemirror_mode": {
    "name": "ipython",
    "version": 3
   },
   "file_extension": ".py",
   "mimetype": "text/x-python",
   "name": "python",
   "nbconvert_exporter": "python",
   "pygments_lexer": "ipython3",
   "version": "3.7.3"
  }
 },
 "nbformat": 4,
 "nbformat_minor": 2
}
