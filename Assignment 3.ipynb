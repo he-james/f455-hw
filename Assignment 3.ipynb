{
 "cells": [
  {
   "cell_type": "markdown",
   "metadata": {},
   "source": [
    "# Financial Data Analytics\n",
    "\n",
    "## Assignment 3\n"
   ]
  },
  {
   "cell_type": "markdown",
   "metadata": {},
   "source": [
    "For the following questions, use the empty lines to run your code. Add or remove lines as needed to have an organized and readable full solution file. "
   ]
  },
  {
   "cell_type": "code",
   "execution_count": null,
   "metadata": {},
   "outputs": [],
   "source": [
    "# Add verbal explanations as comments to your code where needed."
   ]
  },
  {
   "cell_type": "markdown",
   "metadata": {},
   "source": [
    "#### Strings, Data structures (list; dict, tuple, set), and Related functions"
   ]
  },
  {
   "cell_type": "markdown",
   "metadata": {},
   "source": [
    "Create a `list` that contains integers from 1 to 10 using three ways."
   ]
  },
  {
   "cell_type": "code",
   "execution_count": null,
   "metadata": {},
   "outputs": [],
   "source": [
    "# Hint: the first and obvious is the following. For the second the third, use a loop and list comprehension.\n",
    "L1 = [1,2,3,4,5,6,7,8,9,10]\n",
    "print(L1)"
   ]
  },
  {
   "cell_type": "code",
   "execution_count": 3,
   "metadata": {},
   "outputs": [
    {
     "name": "stdout",
     "output_type": "stream",
     "text": [
      "[1, 2, 3, 4, 5, 6, 7, 8, 9, 10]\n"
     ]
    }
   ],
   "source": [
    "L2 = []\n",
    "\n",
    "for i in range(1, 11):\n",
    "    L2.append(i)\n",
    "\n",
    "print(L2)"
   ]
  },
  {
   "cell_type": "code",
   "execution_count": 4,
   "metadata": {},
   "outputs": [
    {
     "name": "stdout",
     "output_type": "stream",
     "text": [
      "[1, 2, 3, 4, 5, 6, 7, 8, 9, 10]\n"
     ]
    }
   ],
   "source": [
    "L3 = [i for i in range(1,11)]\n",
    "\n",
    "print(L3)"
   ]
  },
  {
   "cell_type": "markdown",
   "metadata": {},
   "source": [
    "Create a user defined function that checks for string-type elements (the function returns 'True' for strings, 'False' otherwise).\n",
    "\n",
    "Extract the string-type elements in the following list 'L' using `filter()` and the function you created. Store the string elements in a new list called 'L2'. \n",
    "\n",
    "Finally, print 'This is the list of string-type elements:' and include L2. "
   ]
  },
  {
   "cell_type": "code",
   "execution_count": 23,
   "metadata": {},
   "outputs": [],
   "source": [
    "L = [8, 'Hi', 'Energy', 3, 5.2, None, 'How are you?', 6, '7.3']"
   ]
  },
  {
   "cell_type": "code",
   "execution_count": 34,
   "metadata": {},
   "outputs": [
    {
     "name": "stdout",
     "output_type": "stream",
     "text": [
      "This is the list of string-type elements: ['Hi', 'Energy', 'How are you?', '7.3'].\n"
     ]
    }
   ],
   "source": [
    "def isItemString(item):\n",
    "    if type(item) == str:\n",
    "        return True\n",
    "    else:\n",
    "        return False\n",
    "\n",
    "L2 = filter(isItemString, L)\n",
    "print(f\"This is the list of string-type elements: {list(L2)}.\")"
   ]
  },
  {
   "cell_type": "code",
   "execution_count": null,
   "metadata": {},
   "outputs": [],
   "source": []
  },
  {
   "cell_type": "markdown",
   "metadata": {},
   "source": [
    "Use the `map` function to multiply by 5 all the elements in the following list. Print 'This is the new list:' with the output.\n",
    "\n",
    "Start by creating a user-definied function that multiplies by 5."
   ]
  },
  {
   "cell_type": "code",
   "execution_count": 1,
   "metadata": {},
   "outputs": [],
   "source": [
    "L = [4,7.3,30,-2,5.1]"
   ]
  },
  {
   "cell_type": "code",
   "execution_count": 6,
   "metadata": {},
   "outputs": [
    {
     "name": "stdout",
     "output_type": "stream",
     "text": [
      "This is the new list: [20, 36.5, 150, -10, 25.5]\n"
     ]
    }
   ],
   "source": [
    "# create multiply function\n",
    "def byFive(i):\n",
    "    return i*5\n",
    "\n",
    "# map and print\n",
    "L2 = map(byFive, L)\n",
    "print(\"This is the new list:\", list(L2))"
   ]
  },
  {
   "cell_type": "code",
   "execution_count": null,
   "metadata": {},
   "outputs": [],
   "source": []
  },
  {
   "cell_type": "markdown",
   "metadata": {},
   "source": [
    "Write a program that creates a list of the integer-type items only, from the following list."
   ]
  },
  {
   "cell_type": "code",
   "execution_count": 8,
   "metadata": {},
   "outputs": [],
   "source": [
    "my_list = [1,2,'Job',3,3.14,'paper',5.2,8,None,True,8.3,50]"
   ]
  },
  {
   "cell_type": "code",
   "execution_count": 9,
   "metadata": {},
   "outputs": [
    {
     "name": "stdout",
     "output_type": "stream",
     "text": [
      "[1, 2, 3, 8, 50]\n"
     ]
    }
   ],
   "source": [
    "def isItemInt(item):\n",
    "    if type(item) == int:\n",
    "        return True\n",
    "    else:\n",
    "        return False\n",
    "\n",
    "my_list2 = filter(isItemInt, my_list)\n",
    "print(list(my_list2))"
   ]
  },
  {
   "cell_type": "code",
   "execution_count": null,
   "metadata": {},
   "outputs": [],
   "source": []
  },
  {
   "cell_type": "markdown",
   "metadata": {},
   "source": [
    "Write a user-defined function that takes a list of strings and returns the longest one.\n",
    "\n",
    "Hint: use the list methods: `.append` and `.sort`. The length of a string can be found using\n",
    "the function `len()`.\n",
    "\n",
    "Test your function with some example list of strings."
   ]
  },
  {
   "cell_type": "code",
   "execution_count": 39,
   "metadata": {},
   "outputs": [],
   "source": [
    "strings = [\"one string\", \"two string\", \"red string\", \"blue string\"]"
   ]
  },
  {
   "cell_type": "code",
   "execution_count": 58,
   "metadata": {},
   "outputs": [
    {
     "name": "stdout",
     "output_type": "stream",
     "text": [
      "['blue string']\n"
     ]
    }
   ],
   "source": [
    "# create function\n",
    "def longestString(items):\n",
    "    # declare some locals\n",
    "    longestLength = 0\n",
    "    longestStrings = []\n",
    "    \n",
    "    # loop thru checking for new longest string\n",
    "    for string in strings:\n",
    "        if len(string) > longestLength:\n",
    "            longestLength = len(string)\n",
    "            longestStrings = [string]\n",
    "        elif len(string) == longestLength:\n",
    "            longestStrings.append(string)\n",
    "    \n",
    "    # returns a list in the case of two equally long strings\n",
    "    return longestStrings\n",
    "\n",
    "print(longestString(strings))\n"
   ]
  },
  {
   "cell_type": "markdown",
   "metadata": {},
   "source": [
    "Write a Python user-defined function that returns the largest number from a list of numbers.\n",
    "\n",
    "Test your function on this example list."
   ]
  },
  {
   "cell_type": "code",
   "execution_count": 59,
   "metadata": {},
   "outputs": [],
   "source": [
    "L = [5,6,80,2.8,44,2,3,58,3.3,-7.6]"
   ]
  },
  {
   "cell_type": "code",
   "execution_count": 61,
   "metadata": {},
   "outputs": [
    {
     "data": {
      "text/plain": [
       "80"
      ]
     },
     "execution_count": 61,
     "metadata": {},
     "output_type": "execute_result"
    }
   ],
   "source": [
    "def largestInt(integers):\n",
    "    largestInteger = 0\n",
    "    \n",
    "    for integer in integers:\n",
    "        if integer > largestInteger:\n",
    "            largestInteger = integer\n",
    "    \n",
    "    return largestInteger\n",
    "\n",
    "largestInt(L)"
   ]
  },
  {
   "cell_type": "code",
   "execution_count": null,
   "metadata": {},
   "outputs": [],
   "source": []
  },
  {
   "cell_type": "markdown",
   "metadata": {},
   "source": [
    "Write a Python function to check if a given key already exists in a dictionary, \n",
    "return 'True' if it exists otherwise return 'False'.\n",
    "\n",
    "Test your function with an example dictionary."
   ]
  },
  {
   "cell_type": "code",
   "execution_count": 66,
   "metadata": {},
   "outputs": [],
   "source": [
    "example = {\"id\":\"1\",\"creationDate\":1580412707,\"lastModified\":\"2020-01-30T14:02:36.369Z\",\"lastName\":\"Jena\",\"firstName\":\"Cormier\",\"birthDate\":\"2019-11-05T22:28:52.053Z\",\"email\":\"Curt_Frami@hotmail.com\",\"username\":\"Xzavier_Nolan\",\"password\":\"IG_AeE1vC86mHvJ\",\"proPic\":\"https://s3.amazonaws.com/uifaces/faces/twitter/to_soham/128.jpg\",\"portValue\":\"449.58\"}"
   ]
  },
  {
   "cell_type": "code",
   "execution_count": 71,
   "metadata": {},
   "outputs": [
    {
     "name": "stdout",
     "output_type": "stream",
     "text": [
      "True\n",
      "False\n"
     ]
    }
   ],
   "source": [
    "# define example value\n",
    "# should return true\n",
    "exampleKey = \"id\"\n",
    "# should return false\n",
    "exampleKey2 = \"uid\"\n",
    "\n",
    "# test if key equals keys in dict keys\n",
    "def keyExists(keys, testKey):\n",
    "    doesKeyExist = False\n",
    "    for key in keys:\n",
    "        if testKey == key:\n",
    "            doesKeyExist = True\n",
    "            return doesKeyExist\n",
    "        else:\n",
    "            doesKeyExist = False\n",
    "    return doesKeyExist\n",
    "\n",
    "# print if works\n",
    "print(keyExists(example, exampleKey))\n",
    "print(keyExists(example, exampleKey2))"
   ]
  },
  {
   "cell_type": "markdown",
   "metadata": {},
   "source": [
    "#### Iteration, lambda functions, default values in dicts"
   ]
  },
  {
   "cell_type": "markdown",
   "metadata": {},
   "source": [
    "In class we saw examples of lambda functions that take one input (i.e. Lambda x: ...). \n",
    "\n",
    "Lambda functions, like user-defined functions, can take more than one input.  (i.e. Lambda x,y: ...)"
   ]
  },
  {
   "cell_type": "markdown",
   "metadata": {},
   "source": [
    "Create a function that sums two input numbers (x and y) using a lambda function.\n",
    "\n",
    "Try your function and show that it works."
   ]
  },
  {
   "cell_type": "code",
   "execution_count": 74,
   "metadata": {},
   "outputs": [
    {
     "name": "stdout",
     "output_type": "stream",
     "text": [
      "35\n"
     ]
    }
   ],
   "source": [
    "x = 10\n",
    "y = 25\n",
    "\n",
    "lambdaSum = lambda i, j: i + j\n",
    "print(lambdaSum(x, y))"
   ]
  },
  {
   "cell_type": "code",
   "execution_count": null,
   "metadata": {},
   "outputs": [],
   "source": []
  },
  {
   "cell_type": "markdown",
   "metadata": {},
   "source": [
    "Create a new list called 'L3' that sums elements of the two lists below. (i.e. your output should be the following list: [11,11,11,11,11]) Print the new list.\n",
    "\n",
    "Use a lambda function and `map`."
   ]
  },
  {
   "cell_type": "code",
   "execution_count": 75,
   "metadata": {},
   "outputs": [],
   "source": [
    "L1 = [1, 2, 3, 4, 5]\n",
    "L2 = [10, 9, 8, 7, 6]"
   ]
  },
  {
   "cell_type": "code",
   "execution_count": 78,
   "metadata": {},
   "outputs": [
    {
     "name": "stdout",
     "output_type": "stream",
     "text": [
      "[11, 11, 11, 11, 11]\n"
     ]
    }
   ],
   "source": [
    "lambdaSumList = map(lambda a, b: a + b, L1, L2)\n",
    "\n",
    "print(list(lambdaSumList))"
   ]
  },
  {
   "cell_type": "code",
   "execution_count": null,
   "metadata": {},
   "outputs": [],
   "source": []
  },
  {
   "cell_type": "markdown",
   "metadata": {},
   "source": [
    "Create a new list 'L3' that sums the square root of elements of these two lists. Round each element to the nearest hundredth using function `round()`.\n",
    "Print the new list.\n",
    "\n"
   ]
  },
  {
   "cell_type": "code",
   "execution_count": 85,
   "metadata": {},
   "outputs": [],
   "source": [
    "L1 = [1, 2, 3, 4, 5]\n",
    "L2 = [10, 9, 8, 7, 6]"
   ]
  },
  {
   "cell_type": "code",
   "execution_count": 89,
   "metadata": {},
   "outputs": [
    {
     "name": "stdout",
     "output_type": "stream",
     "text": [
      "[4.16, 4.41, 4.56, 4.65, 4.69]\n"
     ]
    }
   ],
   "source": [
    "from math import sqrt\n",
    "\n",
    "lambdaSumList = map(lambda a, b: round(sqrt(a) + sqrt(b), 2), L1, L2)\n",
    "\n",
    "print(list(lambdaSumList))"
   ]
  },
  {
   "cell_type": "code",
   "execution_count": null,
   "metadata": {},
   "outputs": [],
   "source": []
  },
  {
   "cell_type": "markdown",
   "metadata": {},
   "source": [
    "Create a generator function that yields an iterator over the odd numbers between 1 and n.\n",
    "\n",
    "Test your iterator useing the function `next()`, with n=20."
   ]
  },
  {
   "cell_type": "code",
   "execution_count": 138,
   "metadata": {},
   "outputs": [],
   "source": [
    "def genOdd(nums):\n",
    "    for num in range(nums):\n",
    "        if num % 2 == 1:\n",
    "            yield num\n",
    "\n",
    "n = 20\n",
    "iterate = genOdd(n)"
   ]
  },
  {
   "cell_type": "code",
   "execution_count": 141,
   "metadata": {},
   "outputs": [
    {
     "data": {
      "text/plain": [
       "5"
      ]
     },
     "execution_count": 141,
     "metadata": {},
     "output_type": "execute_result"
    }
   ],
   "source": [
    "next(iterate)"
   ]
  },
  {
   "cell_type": "markdown",
   "metadata": {},
   "source": [
    "Define a generator expression that iterates over the square root of even numbers beteween 100 and 80 (inclusive), starting from sqrt of 100. \n",
    "\n",
    "Test your iterator useing the function `next()`."
   ]
  },
  {
   "cell_type": "code",
   "execution_count": 201,
   "metadata": {},
   "outputs": [],
   "source": [
    "from math import sqrt\n",
    "\n",
    "def genSqrt(top, bot):\n",
    "    for i in reversed(range(bot,top+1)):\n",
    "        yield sqrt(i)\n",
    "        \n",
    "sqrts = genSqrt(100, 80)"
   ]
  },
  {
   "cell_type": "code",
   "execution_count": 223,
   "metadata": {},
   "outputs": [
    {
     "ename": "StopIteration",
     "evalue": "",
     "output_type": "error",
     "traceback": [
      "\u001b[0;31m-----------------------\u001b[0m",
      "\u001b[0;31mStopIteration\u001b[0mTraceback (most recent call last)",
      "\u001b[0;32m<ipython-input-223-c35f716ec59d>\u001b[0m in \u001b[0;36m<module>\u001b[0;34m\u001b[0m\n\u001b[0;32m----> 1\u001b[0;31m \u001b[0mnext\u001b[0m\u001b[0;34m(\u001b[0m\u001b[0msqrts\u001b[0m\u001b[0;34m)\u001b[0m\u001b[0;34m\u001b[0m\u001b[0;34m\u001b[0m\u001b[0m\n\u001b[0m",
      "\u001b[0;31mStopIteration\u001b[0m: "
     ]
    }
   ],
   "source": [
    "next(sqrts)"
   ]
  },
  {
   "cell_type": "markdown",
   "metadata": {},
   "source": [
    "Using the following dictionary and string, create a list called 'L1', that contains the dictionary values for keys matching the string characters. Use `.upper()` to match lowercase to the coresponding uppercase dictionary keys. If the dict don't contain the coresponding key, use the value 'NA' in your list.\n",
    "\n",
    "Overall 'L1' should contain 10 items of values / 'NA' (corresponding to 10 characters in the string)\n",
    "\n",
    "For example, since uppercase j is a dictionary key in 'my_dict', the last item in your list should be 'Lu'."
   ]
  },
  {
   "cell_type": "code",
   "execution_count": 232,
   "metadata": {},
   "outputs": [],
   "source": [
    "string = 'abcdefghij'\n",
    "my_dict = {'A':'John', 'B': 'Tom','E':'Jane',\n",
    "           'F':'Kyle','J':'Lu'}"
   ]
  },
  {
   "cell_type": "code",
   "execution_count": 238,
   "metadata": {},
   "outputs": [
    {
     "name": "stdout",
     "output_type": "stream",
     "text": [
      "['John', 'Tom', 'NA', 'NA', 'Jane', 'Kyle', 'NA', 'NA', 'NA', 'Lu']\n"
     ]
    }
   ],
   "source": [
    "def searchDict(string, searchDict):\n",
    "    results = []\n",
    "    for letter in string:\n",
    "        if letter.upper() in searchDict.keys():\n",
    "            results.append(searchDict[letter.upper()])\n",
    "        else:\n",
    "            results.append('NA')\n",
    "    return results\n",
    "\n",
    "L1 = list(searchDict(string, my_dict))\n",
    "\n",
    "print(L1)"
   ]
  },
  {
   "cell_type": "code",
   "execution_count": null,
   "metadata": {},
   "outputs": [],
   "source": []
  },
  {
   "cell_type": "markdown",
   "metadata": {},
   "source": [
    "Create a list that contains elements created from the following string characters. Each list element is a string that contain one character less than the previous item. \n",
    "\n",
    "Overall, your list should contain 10 items, as follows: \n",
    "\n",
    "`['abcdefghij', 'abcdefghi', ..., 'ab', 'a']` "
   ]
  },
  {
   "cell_type": "code",
   "execution_count": 225,
   "metadata": {},
   "outputs": [],
   "source": [
    "string = 'abcdefghij'"
   ]
  },
  {
   "cell_type": "code",
   "execution_count": 230,
   "metadata": {},
   "outputs": [
    {
     "name": "stdout",
     "output_type": "stream",
     "text": [
      "['abcdefghij', 'abcdefghi', 'abcdefgh', 'abcdefg', 'abcdef', 'abcde', 'abcd', 'abc', 'ab', 'a']\n"
     ]
    }
   ],
   "source": [
    "def stringReducer(string):\n",
    "    strings = []\n",
    "    for i in reversed(range(1, len(string)+1)):\n",
    "        strings.append(string[0:i])\n",
    "    return strings\n",
    "\n",
    "print(stringReducer(string))"
   ]
  },
  {
   "cell_type": "code",
   "execution_count": null,
   "metadata": {},
   "outputs": [],
   "source": []
  }
 ],
 "metadata": {
  "kernelspec": {
   "display_name": "Python 3",
   "language": "python",
   "name": "python3"
  },
  "language_info": {
   "codemirror_mode": {
    "name": "ipython",
    "version": 3
   },
   "file_extension": ".py",
   "mimetype": "text/x-python",
   "name": "python",
   "nbconvert_exporter": "python",
   "pygments_lexer": "ipython3",
   "version": "3.7.4"
  }
 },
 "nbformat": 4,
 "nbformat_minor": 2
}
