{
 "cells": [
  {
   "cell_type": "markdown",
   "metadata": {},
   "source": [
    "# Financial Data Analytics\n",
    "\n",
    "## Assignment 2 \n",
    "\n",
    "Functions and iteration"
   ]
  },
  {
   "cell_type": "markdown",
   "metadata": {},
   "source": [
    "For the following questions, use the empty lines to run your code. Add or remove lines as needed to have an organized and readable full solution file. "
   ]
  },
  {
   "cell_type": "code",
   "execution_count": null,
   "metadata": {},
   "outputs": [],
   "source": [
    "# Add verbal explanations as comments to your code where needed."
   ]
  },
  {
   "cell_type": "markdown",
   "metadata": {},
   "source": [
    "Write a Python program that accepts from a user their name and age, then prints a full sentence that includes the two inputs. Print using at least two different ways."
   ]
  },
  {
   "cell_type": "code",
   "execution_count": null,
   "metadata": {},
   "outputs": [],
   "source": [
    "\"\"\"Greet users with their name and age.\"\"\"\n",
    "\n",
    "import time\n",
    "\n",
    "class User:\n",
    "    \"\"\"Create User class with attributes name and age.\"\"\"\n",
    "    def __init__(self, name, age):\n",
    "        self.name = name\n",
    "        self.age = int(age)\n",
    "    def __repr__(self):\n",
    "        return \"Hi, {0}. It must be great to be {1} years old.\".format(self.name, self.age)\n",
    "\n",
    "def Greeting():\n",
    "    \"\"\"Save user input name and age to User class and print greeting\"\"\"\n",
    "    greeting = \"\"\n",
    "    name = \"\"\n",
    "    age = None\n",
    "    attempts = 0\n",
    "    wait = 5\n",
    "    while age == None or name == \"\":\n",
    "        try:\n",
    "            name = input(\"Hello, please enter your name: \")\n",
    "            age = input(\"Now, please enter your age: \")\n",
    "            user = User(name, age)\n",
    "        except:\n",
    "            for i in range(wait): \n",
    "                age = None\n",
    "                name = \"\"\n",
    "                print(\"Whoops! Something went wrong. Try Again in {0} seconds\"\n",
    "                      .format(wait-i), end=\"\\r\")\n",
    "                time.sleep(1)\n",
    "                if i == wait-1:\n",
    "                    print(\"Whoops! Something went wrong. Try Again in {0} seconds\"\n",
    "                      .format(0), end=\"\\r\")\n",
    "                    time.sleep(1)\n",
    "                    print(\"Try again.                                            \", end=\"\\r\")\n",
    "    \n",
    "    greeting = repr(user)\n",
    "    print(greeting)\n",
    "    return\n",
    "\n",
    "if __name__==\"__main__\":\n",
    "    Greeting()"
   ]
  },
  {
   "cell_type": "code",
   "execution_count": null,
   "metadata": {},
   "outputs": [],
   "source": [
    "\n",
    "\n"
   ]
  },
  {
   "cell_type": "markdown",
   "metadata": {},
   "source": [
    "Write a Python program that accepts from a user the radius of a circle, and print the area.\n",
    "Use the exact value for pi available in the math module as `math.pi`.Print a full sentence that includes your output using f-string. "
   ]
  },
  {
   "cell_type": "code",
   "execution_count": null,
   "metadata": {
    "scrolled": true
   },
   "outputs": [],
   "source": [
    "\"\"\"Prompt user for circle radius and return area.\"\"\"\n",
    "\n",
    "import math\n",
    "import random\n",
    "import time\n",
    "\n",
    "def LoadingBar():\n",
    "    \"\"\"Display a little loading animation.\"\"\"\n",
    "    print(\"Thank you. Loading.\")\n",
    "    print(\"|\", end=\"\")\n",
    "    for i in range(50):\n",
    "        print(\"-\", end=\"\")\n",
    "        loadDuration = random.uniform(0,2)\n",
    "        time.sleep(loadDuration)\n",
    "    print(\"| Loading complete!\")\n",
    "\n",
    "def CalculateCircleArea():\n",
    "    \"Input radius and print area.\"\n",
    "    print(\"Hello there! I am Py-RSquared. I calculate the area of circles.\")\n",
    "    print(\"Give me a value for the radius and I will return the circle's area!\")\n",
    "    while True:\n",
    "        radius = input(\"Radius: \")\n",
    "        try:\n",
    "            radius = float(radius)\n",
    "            break\n",
    "        except:\n",
    "            print('You must enter a numeric value!')\n",
    "    LoadingBar()\n",
    "    time.sleep(2)\n",
    "    print(f\"Thanks for waiting! Your number was {str(radius * math.pi)}!\")\n",
    "    return\n",
    "\n",
    "if __name__==\"__main__\":\n",
    "    CalculateCircleArea()"
   ]
  },
  {
   "cell_type": "code",
   "execution_count": null,
   "metadata": {},
   "outputs": [],
   "source": []
  },
  {
   "cell_type": "markdown",
   "metadata": {},
   "source": [
    "Print the numbers from 1 to N (user defined) using a for loop."
   ]
  },
  {
   "cell_type": "code",
   "execution_count": null,
   "metadata": {},
   "outputs": [],
   "source": [
    "\"\"\"Prompt user for integer and print the numbers from 1 to the integer.\"\"\"\n",
    "\n",
    "import math\n",
    "import time\n",
    "\n",
    "def Counter():\n",
    "    \"Input number and output count.\"\n",
    "    print(\"Hello there! I am CountBot.\")\n",
    "    print(\"Give me a number to count to.\")\n",
    "    while True:\n",
    "        n = input(\"Number: \")\n",
    "        try:\n",
    "            n = int(n)\n",
    "            break\n",
    "        except:\n",
    "            print('Sorry, I can\\'t count to that!')\n",
    "    print(\"Thank you! Let me count.\")\n",
    "    for i in range(n):\n",
    "        print(i + 1)\n",
    "        time.sleep(.5)\n",
    "    print('That\\'s all!')\n",
    "    return\n",
    "\n",
    "if __name__==\"__main__\":\n",
    "    Counter()"
   ]
  },
  {
   "cell_type": "code",
   "execution_count": null,
   "metadata": {},
   "outputs": [],
   "source": []
  },
  {
   "cell_type": "markdown",
   "metadata": {},
   "source": [
    "Print the numbers from 1 to N (user defined) using a while loop."
   ]
  },
  {
   "cell_type": "code",
   "execution_count": null,
   "metadata": {},
   "outputs": [],
   "source": [
    "\"\"\"Prompt user for integer and print the numbers from 1 to the integer.\"\"\"\n",
    "\n",
    "import math\n",
    "import time\n",
    "\n",
    "def Counter():\n",
    "    \"\"\"Input number and output count.\"\"\"\n",
    "    print(\"Hello there! I am CountBot.\")\n",
    "    print(\"Give me a number to count to.\")\n",
    "    while True:\n",
    "        n = input(\"Number: \")\n",
    "        try:\n",
    "            n = int(n)\n",
    "            break\n",
    "        except:\n",
    "            print('Sorry, I can\\'t count to that!')\n",
    "    print(\"Thank you! Let me count.\")\n",
    "    i = 1\n",
    "    while i <= n: \n",
    "        print(i)\n",
    "        time.sleep(.5)\n",
    "        i += 1\n",
    "    print('That\\'s all!')\n",
    "    return\n",
    "\n",
    "if __name__==\"__main__\":\n",
    "    Counter()"
   ]
  },
  {
   "cell_type": "code",
   "execution_count": null,
   "metadata": {},
   "outputs": [],
   "source": []
  },
  {
   "cell_type": "markdown",
   "metadata": {},
   "source": [
    "Write a Python program that prompts the user to enter a guess interger between 1-20.\n",
    "If the user guesses wrong, the prompt appears again until the guess is correct. On successful guess, user will get a \"Correct!\" message.\n",
    "\n",
    "Hint: use the `random.randint()` function."
   ]
  },
  {
   "cell_type": "code",
   "execution_count": 5,
   "metadata": {},
   "outputs": [
    {
     "name": "stdout",
     "output_type": "stream",
     "text": [
      "Do you want to play a game? [y/n] y\n",
      "Okay, let's play!\n",
      "I'm thinking of a number between 1 and 20 (inclusive)... What do you think it is?\n",
      "Attempt #1: 4\n",
      "Attempt #2: 4\n",
      "You already guessed that number! Try again.\n",
      "Attempt #2: 4\n",
      "You already guessed that number! Try again.\n",
      "Attempt #2: 231\n",
      "Attempt #3: 54351\n",
      "Attempt #4: 33\n",
      "Attempt #5: 1\n",
      "Attempt #6: 3\n",
      "Attempt #7: 2\n",
      "Attempt #8: 54\n",
      "Attempt #9: 1\n",
      "You already guessed that number! Try again.\n",
      "Attempt #9: 2\n",
      "You already guessed that number! Try again.\n",
      "Attempt #9: 3\n",
      "You already guessed that number! Try again.\n",
      "Attempt #9: 4\n",
      "You already guessed that number! Try again.\n",
      "Attempt #9: 5\n",
      "Attempt #10: 6\n",
      "Attempt #11: 7\n",
      "Attempt #12: 8\n",
      "Attempt #13: 9\n",
      "Attempt #14: 10\n",
      "Attempt #15: 11\n",
      "Attempt #16: 1\n",
      "You already guessed that number! Try again.\n",
      "Attempt #16: 12\n",
      "Attempt #17: 13\n",
      "Attempt #18: 14\n",
      "Attempt #19: 15\n",
      "Attempt #20: 16\n",
      "You got it! My number was 16!\n"
     ]
    }
   ],
   "source": [
    "\"\"\"Play a guessing game with the user to guess integer between 1 and 20.\"\"\"\n",
    "\n",
    "import random\n",
    "\n",
    "def Guesser(n):\n",
    "    guesses = []\n",
    "    print(\"I'm thinking of a number between 1 and 20 (inclusive)... What do you think it is?\")\n",
    "    i = 0\n",
    "    while i != n:\n",
    "        i = input(f\"Attempt #{len(guesses) + 1}: \")\n",
    "        try:\n",
    "            i = int(i)\n",
    "            if i == n:\n",
    "                print(f\"You got it! My number was {i}!\")\n",
    "                break\n",
    "            elif i in guesses:\n",
    "                print(\"You already guessed that number! Try again.\")\n",
    "            else:\n",
    "                guesses.append(i)\n",
    "        except:\n",
    "            print(\"That's not a number! Try again!\")\n",
    "            continue\n",
    "        \n",
    "\n",
    "def init():\n",
    "    \"\"\"Input number and output count.\"\"\"\n",
    "    n = random.randint(1, 20)\n",
    "    while True:\n",
    "        response = input(\"Do you want to play a game? [y/n] \")\n",
    "        if response == \"y\":\n",
    "            print(\"Okay, let's play!\")\n",
    "            Guesser(n)\n",
    "            break\n",
    "        elif response == \"n\":\n",
    "            print(\"Okay, bye-bye!\")\n",
    "            break\n",
    "        else:\n",
    "            print(\"Please use a valid response!\")\n",
    "            continue\n",
    "\n",
    "if __name__==\"__main__\":\n",
    "    init()"
   ]
  },
  {
   "cell_type": "code",
   "execution_count": null,
   "metadata": {},
   "outputs": [],
   "source": []
  },
  {
   "cell_type": "markdown",
   "metadata": {},
   "source": [
    "Fibonacci sequence, is a series such that each number is the sum of the two preceding ones. e.g. 0,1,1,2,3,5... \n",
    "\n",
    "Write a Python program that prints the Fibonacci series between 0 to 100."
   ]
  },
  {
   "cell_type": "code",
   "execution_count": 11,
   "metadata": {},
   "outputs": [
    {
     "name": "stdout",
     "output_type": "stream",
     "text": [
      "0\n",
      "1\n",
      "1\n",
      "2\n",
      "3\n",
      "5\n",
      "8\n",
      "13\n",
      "21\n",
      "34\n",
      "55\n",
      "89\n"
     ]
    }
   ],
   "source": [
    "def fib():\n",
    "    i = 0\n",
    "    j = 1\n",
    "    k = 1\n",
    "\n",
    "    print(i)\n",
    "    while (i and j and k) <= 100:    \n",
    "        print(k)\n",
    "        k = i + j\n",
    "        i = j\n",
    "        j = k\n",
    "\n",
    "fib()"
   ]
  },
  {
   "cell_type": "code",
   "execution_count": null,
   "metadata": {},
   "outputs": [],
   "source": []
  },
  {
   "cell_type": "markdown",
   "metadata": {},
   "source": [
    "Sum the numbers from 1 to N using a while loop. N is an integer input by a user."
   ]
  },
  {
   "cell_type": "code",
   "execution_count": 15,
   "metadata": {},
   "outputs": [
    {
     "name": "stdout",
     "output_type": "stream",
     "text": [
      "Hello there! I am SumBot.\n",
      "Give me a number and I will sum all the numbers from 1 to it.\n",
      "Number: 4.4\n",
      "Sorry, that's not a number!\n",
      "Number: 4325\n",
      "Thank you! Let me sum.\n",
      "Your number is 9354975. That's all!\n"
     ]
    }
   ],
   "source": [
    "\"\"\"Prompt user for integer and sum the numbers from 1 to the integer.\"\"\"\n",
    "\n",
    "def Summer():\n",
    "    \"\"\"Input number and output sum.\"\"\"\n",
    "    print(\"Hello there! I am SumBot.\")\n",
    "    print(\"Give me a number and I will sum all the numbers from 1 to it.\")\n",
    "    while True:\n",
    "        n = input(\"Number: \")\n",
    "        try:\n",
    "            n = int(n)\n",
    "            break\n",
    "        except:\n",
    "            print('Sorry, that\\'s not an integer!')\n",
    "    print(\"Thank you! Let me sum.\")\n",
    "    i = 1\n",
    "    output = 0\n",
    "    while i <= n: \n",
    "        output += i\n",
    "        i += 1\n",
    "    print(f'Your number is {output}. That\\'s all!')\n",
    "    return\n",
    "\n",
    "if __name__==\"__main__\":\n",
    "    Summer()"
   ]
  },
  {
   "cell_type": "code",
   "execution_count": null,
   "metadata": {},
   "outputs": [],
   "source": []
  },
  {
   "cell_type": "markdown",
   "metadata": {},
   "source": [
    "Compute and print the product of the numbers from 1 to N using a 'for' loop. N is an integer input by a user. \n",
    "\n",
    "This is also known as the factorial of N, noted N!"
   ]
  },
  {
   "cell_type": "code",
   "execution_count": 21,
   "metadata": {},
   "outputs": [
    {
     "name": "stdout",
     "output_type": "stream",
     "text": [
      "Hello there! I am ProductBot.\n",
      "Give me a number and I will multiply all the numbers from 1 to it.\n",
      "Number: 4\n",
      "Thank you! Let me sum.\n",
      "Your number is 24! That's all!\n"
     ]
    }
   ],
   "source": [
    "\"\"\"Prompt user for integer and multiply the numbers from 1 to the integer.\"\"\"\n",
    "\n",
    "def Factorial():\n",
    "    \"\"\"Input number and output product.\"\"\"\n",
    "    print(\"Hello there! I am ProductBot.\")\n",
    "    print(\"Give me a number and I will multiply all the numbers from 1 to it.\")\n",
    "    while True:\n",
    "        n = input(\"Number: \")\n",
    "        try:\n",
    "            n = int(n)\n",
    "            break\n",
    "        except:\n",
    "            print('Sorry, that\\'s not an integer!')\n",
    "    print(\"Thank you! Let me sum.\")\n",
    "    i = 1\n",
    "    output = 1\n",
    "    for i in range(n):\n",
    "        output *= (i+1)\n",
    "    print(f'Your number is {output}! That\\'s all!')\n",
    "    return\n",
    "\n",
    "if __name__==\"__main__\":\n",
    "    Factorial()"
   ]
  },
  {
   "cell_type": "code",
   "execution_count": null,
   "metadata": {},
   "outputs": [],
   "source": []
  },
  {
   "cell_type": "markdown",
   "metadata": {},
   "source": [
    "Handling exceptions in input: Prompt a user to enter an integer. If they don't enter an integer, print 'you did not enter an integer', and prompt again until they do. Finaly, print a statement that includes the integer."
   ]
  },
  {
   "cell_type": "code",
   "execution_count": 22,
   "metadata": {},
   "outputs": [
    {
     "name": "stdout",
     "output_type": "stream",
     "text": [
      "Number: r\n",
      "You did not enter an integer!\n",
      "Number: f\n",
      "You did not enter an integer!\n",
      "Number: 2\n",
      "ok\n"
     ]
    }
   ],
   "source": [
    "def ExceptionBot():\n",
    "    while True:\n",
    "        n = input(\"Number: \")\n",
    "        try:\n",
    "            n = int(n)\n",
    "            break\n",
    "        except:\n",
    "            print('You did not enter an integer!')\n",
    "    print(\"ok\")\n",
    "\n",
    "if __name__==\"__main__\":\n",
    "    ExceptionBot()"
   ]
  },
  {
   "cell_type": "code",
   "execution_count": null,
   "metadata": {},
   "outputs": [],
   "source": []
  },
  {
   "cell_type": "markdown",
   "metadata": {},
   "source": [
    "Create a user defined function called number_lookup(my_list, x). The function accepts a list and a look-up number x. \n",
    "If x is in the list, the function returns 'True', otherwise, it returns 'False'.\n",
    "\n",
    "Test that your function returns 'True' on the following input: "
   ]
  },
  {
   "cell_type": "code",
   "execution_count": 24,
   "metadata": {},
   "outputs": [
    {
     "data": {
      "text/plain": [
       "False"
      ]
     },
     "execution_count": 24,
     "metadata": {},
     "output_type": "execute_result"
    }
   ],
   "source": [
    "def number_lookup(my_list, x):\n",
    "    if x in my_list:\n",
    "        return True\n",
    "    else:\n",
    "        return False\n",
    "\n",
    "number_lookup([25,12,-1,'Smart','Cow'], 12)"
   ]
  },
  {
   "cell_type": "code",
   "execution_count": null,
   "metadata": {},
   "outputs": [],
   "source": []
  },
  {
   "cell_type": "code",
   "execution_count": null,
   "metadata": {},
   "outputs": [],
   "source": []
  }
 ],
 "metadata": {
  "kernelspec": {
   "display_name": "Python 3",
   "language": "python",
   "name": "python3"
  },
  "language_info": {
   "codemirror_mode": {
    "name": "ipython",
    "version": 3
   },
   "file_extension": ".py",
   "mimetype": "text/x-python",
   "name": "python",
   "nbconvert_exporter": "python",
   "pygments_lexer": "ipython3",
   "version": "3.7.4"
  }
 },
 "nbformat": 4,
 "nbformat_minor": 2
}
